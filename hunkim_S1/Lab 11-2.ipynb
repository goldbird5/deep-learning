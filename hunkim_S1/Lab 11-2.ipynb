{
 "cells": [
  {
   "cell_type": "code",
   "execution_count": 2,
   "metadata": {},
   "outputs": [
    {
     "name": "stdout",
     "output_type": "stream",
     "text": [
      "Extracting MNIST_data/train-images-idx3-ubyte.gz\n",
      "Extracting MNIST_data/train-labels-idx1-ubyte.gz\n",
      "Extracting MNIST_data/t10k-images-idx3-ubyte.gz\n",
      "Extracting MNIST_data/t10k-labels-idx1-ubyte.gz\n"
     ]
    }
   ],
   "source": [
    "import tensorflow as tf\n",
    "import numpy as np\n",
    "import matplotlib.pyplot as plt\n",
    "import random\n",
    "import input_data\n",
    "\n",
    "mnist = input_data.read_data_sets(\"MNIST_data/\", one_hot=True)"
   ]
  },
  {
   "cell_type": "code",
   "execution_count": 4,
   "metadata": {},
   "outputs": [],
   "source": [
    "g1 = tf.Graph()\n",
    "with g1.as_default() as graph:\n",
    "    \n",
    "    nb_classes = 10\n",
    "    \n",
    "    rate = tf.compat.v1.placeholder(tf.float32)\n",
    "    \n",
    "    X = tf.compat.v1.placeholder(tf.float32, [None, 784])\n",
    "    X_img = tf. reshape(X, [-1, 28, 28, 1])\n",
    "    Y = tf.compat.v1.placeholder(tf.float32, [None, nb_classes])\n",
    "    \n",
    "    W1 = tf.Variable(tf.compat.v1.random_normal([3, 3, 1, 32], stddev=0.01))\n",
    "    L1 = tf.nn.conv2d(X_img, W1, strides=[1, 1, 1, 1], padding='SAME')\n",
    "    L1 = tf.nn.relu(L1)\n",
    "    L1 = tf.nn.max_pool(L1, ksize=[1, 2, 2, 1], strides=[1, 2, 2, 1], padding='SAME')\n",
    "    L1 = tf.nn.dropout(L1, rate=rate)\n",
    "    \n",
    "    W2 = tf.Variable(tf.compat.v1.random_normal([3, 3, 32, 64], stddev=0.01))\n",
    "    L2 = tf.nn.conv2d(L1, W2, strides=[1, 1, 1, 1], padding='SAME')\n",
    "    L2 = tf.nn.relu(L2)\n",
    "    L2 = tf.nn.max_pool(L2, ksize=[1, 2, 2, 1], strides=[1, 2, 2, 1], padding='SAME')\n",
    "    L2 = tf.nn.dropout(L2, rate=rate)\n",
    "    \n",
    "    W3 = tf.Variable(tf.compat.v1.random_normal([3, 3, 64, 128], stddev=0.01))\n",
    "    L3 = tf.nn.conv2d(L2, W3, strides=[1, 1, 1, 1], padding='SAME')\n",
    "    L3 = tf.nn.relu(L3)\n",
    "    L3 = tf.nn.max_pool(L3, ksize=[1, 2, 2, 1], strides=[1, 2, 2, 1], padding='SAME')\n",
    "    L3 = tf.nn.dropout(L3, rate=rate)\n",
    "    L3 = tf.reshape(L3, [-1, 128 * 4 * 4])    \n",
    "    \n",
    "    W4 = tf.compat.v1.get_variable(\"W4\", shape = [128 * 4 * 4, 625], initializer=tf.initializers.glorot_normal())\n",
    "    b4 = tf.Variable(tf.compat.v1.random_normal([625]))\n",
    "    L4 = tf.matmul(L3, W4) + b4\n",
    "    L4 = tf.nn.dropout(L4, rate=rate)\n",
    "    \n",
    "    W5 = tf.compat.v1.get_variable(\"W5\", shape = [625, nb_classes], initializer=tf.initializers.glorot_normal())\n",
    "    b5 = tf.Variable(tf.compat.v1.random_normal([nb_classes]))\n",
    "    hypothesis = tf.matmul(L4, W5) + b5\n",
    "    \n",
    "    cost = tf.reduce_mean(tf.nn.softmax_cross_entropy_with_logits(logits=hypothesis, labels=Y))\n",
    "    optimizer = tf.compat.v1.train.AdamOptimizer(learning_rate=0.001).minimize(cost)\n",
    "    \n",
    "    is_correct = tf.equal(tf.argmax(hypothesis, 1), tf.argmax(Y, 1))\n",
    "    accuracy = tf.reduce_mean(tf.cast(is_correct, tf.float32))    \n",
    "    \n",
    "    init_op = tf.compat.v1.global_variables_initializer()\n",
    "    \n",
    "    r = random.randint(0, mnist.test.num_examples - 1)\n",
    "    test = tf.argmax(mnist.test.labels[r:r+1], 1)\n",
    "    \n",
    "sess = tf.compat.v1.Session(graph = g1)\n",
    "sess.run(init_op)"
   ]
  },
  {
   "cell_type": "code",
   "execution_count": 5,
   "metadata": {},
   "outputs": [
    {
     "name": "stdout",
     "output_type": "stream",
     "text": [
      "Epoch :  0001 cost =  0.488297633\n",
      "Epoch :  0002 cost =  0.085672562\n",
      "Epoch :  0003 cost =  0.065891067\n",
      "Epoch :  0004 cost =  0.055263868\n",
      "Epoch :  0005 cost =  0.051024040\n",
      "Epoch :  0006 cost =  0.047943121\n",
      "Epoch :  0007 cost =  0.044401057\n",
      "Epoch :  0008 cost =  0.040706333\n",
      "Epoch :  0009 cost =  0.040042286\n",
      "Epoch :  0010 cost =  0.036804013\n",
      "Epoch :  0011 cost =  0.036457565\n",
      "Epoch :  0012 cost =  0.036975179\n",
      "Epoch :  0013 cost =  0.035737303\n",
      "Epoch :  0014 cost =  0.032188744\n",
      "Epoch :  0015 cost =  0.032164699\n"
     ]
    }
   ],
   "source": [
    "training_epocs = 15\n",
    "batch_size = 100\n",
    "\n",
    "for epoch in range(training_epocs):\n",
    "    avg_cost = 0\n",
    "    total_batch = int(mnist.train.num_examples / batch_size)\n",
    "\n",
    "    for i in range(total_batch):\n",
    "        batch_xs, batch_ys = mnist.train.next_batch(batch_size)\n",
    "        c, _ = sess.run([cost, optimizer], feed_dict={X: batch_xs, Y: batch_ys, rate: 0.3})\n",
    "        avg_cost += c / total_batch\n",
    "    print('Epoch : ', '%04d' % (epoch + 1), 'cost = ', '{:.9f}'.format(avg_cost))"
   ]
  },
  {
   "cell_type": "code",
   "execution_count": 6,
   "metadata": {},
   "outputs": [
    {
     "name": "stdout",
     "output_type": "stream",
     "text": [
      "Accuracy: 0.9931999742984772\n"
     ]
    }
   ],
   "source": [
    "## 1에폭당 4분 50초\n",
    "acc_sum = 0\n",
    "\n",
    "for i in range(2):\n",
    "    acc_sum += sess.run(accuracy, feed_dict={X: mnist.test.images[5000 * i:5000 * (i + 1)], Y: mnist.test.labels[5000 * i:5000 * (i + 1)], rate: 0.0})\n",
    "    \n",
    "acc = acc_sum / 2.0    \n",
    "print(\"Accuracy:\", acc)    "
   ]
  },
  {
   "cell_type": "code",
   "execution_count": null,
   "metadata": {},
   "outputs": [],
   "source": []
  }
 ],
 "metadata": {
  "kernelspec": {
   "display_name": "Python 3",
   "language": "python",
   "name": "python3"
  },
  "language_info": {
   "codemirror_mode": {
    "name": "ipython",
    "version": 3
   },
   "file_extension": ".py",
   "mimetype": "text/x-python",
   "name": "python",
   "nbconvert_exporter": "python",
   "pygments_lexer": "ipython3",
   "version": "3.7.4"
  }
 },
 "nbformat": 4,
 "nbformat_minor": 2
}
