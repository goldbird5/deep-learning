{
 "cells": [
  {
   "cell_type": "code",
   "execution_count": 4,
   "metadata": {},
   "outputs": [],
   "source": [
    "import tensorflow as tf\n",
    "import numpy as np\n",
    "import matplotlib.pyplot as plt\n",
    "import random\n",
    "import input_data"
   ]
  },
  {
   "cell_type": "code",
   "execution_count": 5,
   "metadata": {},
   "outputs": [
    {
     "name": "stdout",
     "output_type": "stream",
     "text": [
      "Extracting MNIST_data/train-images-idx3-ubyte.gz\n",
      "Extracting MNIST_data/train-labels-idx1-ubyte.gz\n",
      "Extracting MNIST_data/t10k-images-idx3-ubyte.gz\n",
      "Extracting MNIST_data/t10k-labels-idx1-ubyte.gz\n"
     ]
    }
   ],
   "source": [
    "mnist = input_data.read_data_sets(\"MNIST_data/\", one_hot=True)"
   ]
  },
  {
   "cell_type": "code",
   "execution_count": 10,
   "metadata": {},
   "outputs": [],
   "source": [
    "g1 = tf.Graph()\n",
    "with g1.as_default() as graph:\n",
    "    \n",
    "    nb_classes = 10\n",
    "    \n",
    "    X = tf.compat.v1.placeholder(tf.float32, [None, 784])\n",
    "    Y = tf.compat.v1.placeholder(tf.float32, [None, nb_classes])\n",
    "    \n",
    "    #W = tf.Variable(tf.compat.v1.random_normal([784, nb_classes]), name = 'weight')\n",
    "    #b = tf.Variable(tf.compat.v1.random_normal([nb_classes]), name = 'bias')\n",
    "    #hypothesis = tf.nn.softmax(tf.matmul(X, W) + b)\n",
    "    \n",
    "    W1 = tf.Variable(tf.compat.v1.random_normal([784, 500]), name = 'weight1')\n",
    "    b1 = tf.Variable(tf.compat.v1.random_normal([500]), name = 'bias1')\n",
    "    layer1 = tf.sigmoid(tf.matmul(X, W1) + b1)\n",
    "    \n",
    "    W2 = tf.Variable(tf.compat.v1.random_normal([500, 500]), name = 'weight2')\n",
    "    b2 = tf.Variable(tf.compat.v1.random_normal([500]), name = 'bias2')\n",
    "    layer2 = tf.sigmoid(tf.matmul(layer1, W2) + b2)\n",
    "    \n",
    "    W3 = tf.Variable(tf.compat.v1.random_normal([500, nb_classes]), name = 'weight3')\n",
    "    b3 = tf.Variable(tf.compat.v1.random_normal([nb_classes]), name = 'bias3')\n",
    "    hypothesis = tf.nn.softmax(tf.matmul(layer2, W3) + b3)\n",
    "    \n",
    "    cost = tf.reduce_mean(-tf.reduce_sum(Y * tf.compat.v1.log(hypothesis), axis=1))\n",
    "    optimizer = tf.compat.v1.train.GradientDescentOptimizer(learning_rate=0.1).minimize(cost)\n",
    "    \n",
    "    prediction = tf.argmax(hypothesis, 1)\n",
    "    is_correct = tf.equal(prediction, tf.argmax(Y, 1))\n",
    "    accuracy = tf.reduce_mean(tf.cast(is_correct, tf.float32))    \n",
    "    \n",
    "    init_op = tf.compat.v1.global_variables_initializer()\n",
    "    \n",
    "    r = random.randint(0, mnist.test.num_examples - 1)\n",
    "    test = tf.argmax(mnist.test.labels[r:r+1], 1)\n",
    "    \n",
    "sess = tf.compat.v1.Session(graph = g1)\n",
    "sess.run(init_op)"
   ]
  },
  {
   "cell_type": "code",
   "execution_count": 11,
   "metadata": {},
   "outputs": [
    {
     "name": "stdout",
     "output_type": "stream",
     "text": [
      "Epoch :  0001 cost =  2.294322946\n",
      "Epoch :  0002 cost =  0.899892360\n",
      "Epoch :  0003 cost =  0.653021084\n",
      "Epoch :  0004 cost =  0.517475580\n",
      "Epoch :  0005 cost =  0.427045915\n",
      "Epoch :  0006 cost =  0.363024526\n",
      "Epoch :  0007 cost =  0.312735828\n",
      "Epoch :  0008 cost =  0.273355845\n",
      "Epoch :  0009 cost =  0.240926073\n",
      "Epoch :  0010 cost =  0.215521629\n",
      "Epoch :  0011 cost =  0.192873334\n",
      "Epoch :  0012 cost =  0.173172279\n",
      "Epoch :  0013 cost =  0.157208894\n",
      "Epoch :  0014 cost =  0.142987430\n",
      "Epoch :  0015 cost =  0.130951572\n",
      "Accuracy :  0.8977\n"
     ]
    }
   ],
   "source": [
    "training_epocs = 15\n",
    "batch_size = 100\n",
    "\n",
    "for epoch in range(training_epocs):\n",
    "    avg_cost = 0\n",
    "    total_batch = int(mnist.train.num_examples / batch_size)\n",
    "\n",
    "    for i in range(total_batch):\n",
    "        batch_xs, batch_ys = mnist.train.next_batch(batch_size)\n",
    "        c, _ = sess.run([cost, optimizer], feed_dict={X: batch_xs, Y: batch_ys})\n",
    "        avg_cost += c / total_batch\n",
    "    print('Epoch : ', '%04d' % (epoch + 1), 'cost = ', '{:.9f}'.format(avg_cost))\n",
    "    \n",
    "print(\"Accuracy : \", accuracy.eval(session=sess, feed_dict={X: mnist.test.images, Y: mnist.test.labels}))   "
   ]
  },
  {
   "cell_type": "code",
   "execution_count": 9,
   "metadata": {},
   "outputs": [
    {
     "name": "stdout",
     "output_type": "stream",
     "text": [
      "Label :  [5]\n",
      "Prediction :  [5]\n"
     ]
    },
    {
     "data": {
      "image/png": "[encoded data removed]",
      "text/plain": [
       "<Figure size 432x288 with 1 Axes>"
      ]
     },
     "metadata": {
      "needs_background": "light"
     },
     "output_type": "display_data"
    }
   ],
   "source": [
    "r = random.randint(0, mnist.test.num_examples - 1)\n",
    "print(\"Label : \", np.argmax(mnist.test.labels[r:r+1], 1))\n",
    "print(\"Prediction : \", sess.run(prediction, feed_dict={X: mnist.test.images[r:r+1]}))\n",
    "\n",
    "plt.imshow(mnist.test.images[r:r+1].reshape(28, 28), cmap='Greys', interpolation='nearest')\n",
    "plt.show()"
   ]
  },
  {
   "cell_type": "code",
   "execution_count": null,
   "metadata": {},
   "outputs": [],
   "source": []
  }
 ],
 "metadata": {
  "kernelspec": {
   "display_name": "Python 3",
   "language": "python",
   "name": "python3"
  },
  "language_info": {
   "codemirror_mode": {
    "name": "ipython",
    "version": 3
   },
   "file_extension": ".py",
   "mimetype": "text/x-python",
   "name": "python",
   "nbconvert_exporter": "python",
   "pygments_lexer": "ipython3",
   "version": "3.7.4"
  }
 },
 "nbformat": 4,
 "nbformat_minor": 2
}
