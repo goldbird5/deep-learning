{
 "cells": [
  {
   "cell_type": "code",
   "execution_count": 1,
   "metadata": {},
   "outputs": [
    {
     "name": "stderr",
     "output_type": "stream",
     "text": [
      "/usr/local/lib/python3.7/site-packages/pandas/compat/__init__.py:84: UserWarning: Could not import the lzma module. Your installed Python is incomplete. Attempting to use lzma compression will result in a RuntimeError.\n",
      "  warnings.warn(msg)\n",
      "/usr/local/lib/python3.7/site-packages/pandas/compat/__init__.py:84: UserWarning: Could not import the lzma module. Your installed Python is incomplete. Attempting to use lzma compression will result in a RuntimeError.\n",
      "  warnings.warn(msg)\n"
     ]
    }
   ],
   "source": [
    "import tensorflow as tf\n",
    "import numpy as np"
   ]
  },
  {
   "cell_type": "code",
   "execution_count": 11,
   "metadata": {},
   "outputs": [],
   "source": [
    "g1 = tf.Graph()\n",
    "with g1.as_default() as graph:\n",
    "    \n",
    "    x_data = np.array([[0, 0], [0, 1], [1, 0], [1, 1]], dtype=np.float32)\n",
    "    y_data = np.array([[0], [1], [1], [0]], dtype=np.float32)\n",
    "       \n",
    "    X = tf.compat.v1.placeholder(tf.float32)\n",
    "    Y = tf.compat.v1.placeholder(tf.float32)\n",
    "    \n",
    "    W1 = tf.Variable(tf.compat.v1.random_normal([2, 2]), name = 'weight1')\n",
    "    b1 = tf.Variable(tf.compat.v1.random_normal([2]), name = 'bias1')\n",
    "    layer1 = tf.sigmoid(tf.matmul(X, W1) + b1)\n",
    "    \n",
    "    W2 = tf.Variable(tf.compat.v1.random_normal([2, 1]), name = 'weight2')\n",
    "    b2 = tf.Variable(tf.compat.v1.random_normal([1]), name = 'bias2')\n",
    "    hypothesis = tf.sigmoid(tf.matmul(layer1, W2) + b2)    \n",
    "    \n",
    "    cost = -tf.reduce_mean(Y * tf.compat.v1.log(hypothesis) + (1 - Y) * tf.compat.v1.log(1 - hypothesis))\n",
    "    train = tf.compat.v1.train.GradientDescentOptimizer(learning_rate=0.1).minimize(cost)\n",
    "    \n",
    "    predicted = tf.cast(hypothesis > 0.5, dtype=tf.float32)\n",
    "    accuracy = tf.reduce_mean(tf.cast(tf.equal(predicted, Y), dtype=tf.float32))    \n",
    "    \n",
    "    init_op = tf.compat.v1.global_variables_initializer()\n",
    "    \n",
    "sess = tf.compat.v1.Session(graph = g1)\n",
    "sess.run(init_op)"
   ]
  },
  {
   "cell_type": "code",
   "execution_count": 12,
   "metadata": {},
   "outputs": [
    {
     "name": "stdout",
     "output_type": "stream",
     "text": [
      "0 0.69895244\n",
      "1000 0.6911824\n",
      "2000 0.6744235\n",
      "3000 0.58517313\n",
      "4000 0.41457453\n",
      "5000 0.1289054\n",
      "6000 0.061077014\n",
      "7000 0.038740147\n",
      "8000 0.028081024\n",
      "9000 0.021922076\n",
      "10000 0.017934708\n",
      "\n",
      "Hypothesis :  [[0.01729729]\n",
      " [0.97598106]\n",
      " [0.984908  ]\n",
      " [0.01466252]] \n",
      "Correct :  [[0.]\n",
      " [1.]\n",
      " [1.]\n",
      " [0.]] \n",
      "Accuracy :  1.0\n"
     ]
    }
   ],
   "source": [
    "for step in range(10001):\n",
    "    sess.run(train, feed_dict={X: x_data, Y: y_data})\n",
    "    if step % 1000 == 0:\n",
    "        print(step, sess.run(cost, feed_dict={X: x_data, Y: y_data}))\n",
    "        \n",
    "h, c, a = sess.run([hypothesis, predicted, accuracy], feed_dict={X: x_data, Y: y_data})\n",
    "print(\"\\nHypothesis : \", h, \"\\nCorrect : \", c, \"\\nAccuracy : \", a)"
   ]
  },
  {
   "cell_type": "code",
   "execution_count": null,
   "metadata": {},
   "outputs": [],
   "source": []
  }
 ],
 "metadata": {
  "kernelspec": {
   "display_name": "Python 3",
   "language": "python",
   "name": "python3"
  },
  "language_info": {
   "codemirror_mode": {
    "name": "ipython",
    "version": 3
   },
   "file_extension": ".py",
   "mimetype": "text/x-python",
   "name": "python",
   "nbconvert_exporter": "python",
   "pygments_lexer": "ipython3",
   "version": "3.7.4"
  }
 },
 "nbformat": 4,
 "nbformat_minor": 2
}
