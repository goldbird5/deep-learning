{
 "cells": [
  {
   "cell_type": "code",
   "execution_count": 1,
   "metadata": {},
   "outputs": [],
   "source": [
    "import tensorflow as tf\n",
    "import numpy as np\n",
    "import matplotlib.pyplot as plt\n",
    "import random\n",
    "import input_data"
   ]
  },
  {
   "cell_type": "code",
   "execution_count": 3,
   "metadata": {
    "scrolled": true
   },
   "outputs": [
    {
     "name": "stdout",
     "output_type": "stream",
     "text": [
      "Extracting MNIST_data/train-images-idx3-ubyte.gz\n",
      "Extracting MNIST_data/train-labels-idx1-ubyte.gz\n",
      "Extracting MNIST_data/t10k-images-idx3-ubyte.gz\n",
      "Extracting MNIST_data/t10k-labels-idx1-ubyte.gz\n"
     ]
    }
   ],
   "source": [
    "mnist = input_data.read_data_sets(\"MNIST_data/\", one_hot=True)"
   ]
  },
  {
   "cell_type": "code",
   "execution_count": 7,
   "metadata": {},
   "outputs": [],
   "source": [
    "x_data = mnist.train.images\n",
    "y_data = mnist.train.labels"
   ]
  },
  {
   "cell_type": "code",
   "execution_count": 16,
   "metadata": {},
   "outputs": [
    {
     "name": "stdout",
     "output_type": "stream",
     "text": [
      "Train on 55000 samples\n",
      "Epoch 1/15\n",
      "55000/55000 [==============================] - 15s 265us/sample - loss: 1.5012 - acc: 0.5285\n",
      "Epoch 2/15\n",
      "55000/55000 [==============================] - 14s 253us/sample - loss: 0.5323 - acc: 0.8520\n",
      "Epoch 3/15\n",
      "55000/55000 [==============================] - 14s 249us/sample - loss: 0.4050 - acc: 0.8841\n",
      "Epoch 4/15\n",
      "55000/55000 [==============================] - 14s 250us/sample - loss: 0.3610 - acc: 0.8952\n",
      "Epoch 5/15\n",
      "55000/55000 [==============================] - 14s 251us/sample - loss: 0.3369 - acc: 0.9019\n",
      "Epoch 6/15\n",
      "55000/55000 [==============================] - 14s 257us/sample - loss: 0.3220 - acc: 0.9064\n",
      "Epoch 7/15\n",
      "55000/55000 [==============================] - 14s 247us/sample - loss: 0.3091 - acc: 0.9097\n",
      "Epoch 8/15\n",
      "55000/55000 [==============================] - 14s 249us/sample - loss: 0.2990 - acc: 0.9123\n",
      "Epoch 9/15\n",
      "55000/55000 [==============================] - 14s 249us/sample - loss: 0.2905 - acc: 0.9156\n",
      "Epoch 10/15\n",
      "55000/55000 [==============================] - 14s 253us/sample - loss: 0.2830 - acc: 0.9182\n",
      "Epoch 11/15\n",
      "55000/55000 [==============================] - 14s 249us/sample - loss: 0.2753 - acc: 0.9201\n",
      "Epoch 12/15\n",
      "55000/55000 [==============================] - 14s 249us/sample - loss: 0.2688 - acc: 0.9222\n",
      "Epoch 13/15\n",
      "55000/55000 [==============================] - 14s 249us/sample - loss: 0.2621 - acc: 0.9244\n",
      "Epoch 14/15\n",
      "55000/55000 [==============================] - 14s 249us/sample - loss: 0.2556 - acc: 0.9260\n",
      "Epoch 15/15\n",
      "55000/55000 [==============================] - 14s 251us/sample - loss: 0.2481 - acc: 0.9290\n"
     ]
    },
    {
     "data": {
      "text/plain": [
       "<tensorflow.python.keras.callbacks.History at 0x7f557c2f8c50>"
      ]
     },
     "execution_count": 16,
     "metadata": {},
     "output_type": "execute_result"
    }
   ],
   "source": [
    "model = tf.keras.models.Sequential([\n",
    "    tf.keras.layers.Dense(500, kernel_initializer=tf.keras.initializers.GlorotNormal(),\n",
    "                          activation='sigmoid', dtype='float32'),\n",
    "    tf.keras.layers.Dense(500, kernel_initializer=tf.keras.initializers.GlorotNormal(),\n",
    "                          activation='sigmoid', dtype='float32'),\n",
    "    tf.keras.layers.Dense(10, kernel_initializer=tf.keras.initializers.GlorotNormal(),\n",
    "                          activation='softmax', dtype='float32')    \n",
    "])\n",
    "\n",
    "sgd = tf.optimizers.SGD(learning_rate=0.1)\n",
    "model.compile(optimizer=sgd, \n",
    "              loss=tf.keras.losses.CategoricalCrossentropy(),\n",
    "              metrics=['acc'])\n",
    "\n",
    "model.fit(x_data, y_data, batch_size=100, verbose=1, epochs=15)"
   ]
  },
  {
   "cell_type": "code",
   "execution_count": 17,
   "metadata": {},
   "outputs": [
    {
     "name": "stdout",
     "output_type": "stream",
     "text": [
      "Label :  [4]\n",
      "Prediction :  [4]\n"
     ]
    },
    {
     "data": {
      "image/png": "[encoded data removed]",
      "text/plain": [
       "<Figure size 432x288 with 1 Axes>"
      ]
     },
     "metadata": {
      "needs_background": "light"
     },
     "output_type": "display_data"
    }
   ],
   "source": [
    "r = random.randint(0, mnist.test.num_examples - 1)\n",
    "print(\"Label : \", np.argmax(mnist.test.labels[r:r+1], 1))\n",
    "print(\"Prediction : \", tf.argmax(model.predict(mnist.test.images[r:r+1]), 1).numpy())\n",
    "\n",
    "plt.imshow(mnist.test.images[r:r+1].reshape(28, 28), cmap='Greys', interpolation='nearest')\n",
    "plt.show()"
   ]
  },
  {
   "cell_type": "code",
   "execution_count": null,
   "metadata": {},
   "outputs": [],
   "source": []
  }
 ],
 "metadata": {
  "kernelspec": {
   "display_name": "Python 3",
   "language": "python",
   "name": "python3"
  },
  "language_info": {
   "codemirror_mode": {
    "name": "ipython",
    "version": 3
   },
   "file_extension": ".py",
   "mimetype": "text/x-python",
   "name": "python",
   "nbconvert_exporter": "python",
   "pygments_lexer": "ipython3",
   "version": "3.7.4"
  }
 },
 "nbformat": 4,
 "nbformat_minor": 2
}
