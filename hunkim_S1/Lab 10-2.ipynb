{
 "cells": [
  {
   "cell_type": "code",
   "execution_count": 2,
   "metadata": {},
   "outputs": [],
   "source": [
    "import tensorflow as tf\n",
    "import numpy as np\n",
    "import matplotlib.pyplot as plt\n",
    "import random\n",
    "import input_data"
   ]
  },
  {
   "cell_type": "code",
   "execution_count": 4,
   "metadata": {},
   "outputs": [
    {
     "name": "stdout",
     "output_type": "stream",
     "text": [
      "Extracting MNIST_data/train-images-idx3-ubyte.gz\n",
      "Extracting MNIST_data/train-labels-idx1-ubyte.gz\n",
      "Extracting MNIST_data/t10k-images-idx3-ubyte.gz\n",
      "Extracting MNIST_data/t10k-labels-idx1-ubyte.gz\n"
     ]
    }
   ],
   "source": [
    "mnist = input_data.read_data_sets(\"MNIST_data/\", one_hot=True)"
   ]
  },
  {
   "cell_type": "code",
   "execution_count": 18,
   "metadata": {},
   "outputs": [],
   "source": [
    "g1 = tf.Graph()\n",
    "with g1.as_default() as graph:\n",
    "    \n",
    "    nb_classes = 10\n",
    "    \n",
    "    X = tf.compat.v1.placeholder(tf.float32, [None, 784])\n",
    "    Y = tf.compat.v1.placeholder(tf.float32, [None, nb_classes])\n",
    "    \n",
    "    rate = tf.compat.v1.placeholder(tf.float32)\n",
    "    \n",
    "    #W = tf.Variable(tf.compat.v1.random_normal([784, nb_classes]), name = 'weight')\n",
    "    #b = tf.Variable(tf.compat.v1.random_normal([nb_classes]), name = 'bias')\n",
    "    #hypothesis = tf.matmul(X, W) + b\n",
    "    \n",
    "    #W1 = tf.Variable(tf.compat.v1.random_normal([784, 256]), name = 'weight1')\n",
    "    W1 = tf.compat.v1.get_variable(\"W1\", shape=[784, 512], initializer=tf.initializers.glorot_normal())\n",
    "    #W1 = tf.compat.v1.get_variable(\"W1\", shape=[784, 512])\n",
    "    b1 = tf.Variable(tf.compat.v1.random_normal([512]), name = 'bias1')\n",
    "    L1 = tf.nn.relu(tf.matmul(X, W1) + b1)\n",
    "    L1 = tf.nn.dropout(L1, rate=rate)\n",
    "    \n",
    "    #W2 = tf.Variable(tf.compat.v1.random_normal([256, 256]), name = 'weight2')\n",
    "    W2 = tf.compat.v1.get_variable(\"W2\", shape=[512, 512], initializer=tf.initializers.glorot_normal())\n",
    "    #W2 = tf.compat.v1.get_variable(\"W2\", shape=[512, 512])\n",
    "    b2 = tf.Variable(tf.compat.v1.random_normal([512]), name = 'bias2')\n",
    "    L2 = tf.nn.relu(tf.matmul(L1, W2) + b2)\n",
    "    L2 = tf.nn.dropout(L2, rate=rate)\n",
    "    \n",
    "    #W3 = tf.Variable(tf.compat.v1.random_normal([256, nb_classes]), name = 'weight3')\n",
    "    W3 = tf.compat.v1.get_variable(\"W3\", shape=[512, 512], initializer=tf.initializers.glorot_normal())\n",
    "    #W3 = tf.compat.v1.get_variable(\"W3\", shape=[512, 512])\n",
    "    b3 = tf.Variable(tf.compat.v1.random_normal([512]), name = 'bias3')\n",
    "    L3 = tf.nn.relu(tf.matmul(L2, W3) + b3)\n",
    "    L3 = tf.nn.dropout(L3, rate=rate)\n",
    "    \n",
    "    W4 = tf.compat.v1.get_variable(\"W4\", shape=[512, 512], initializer=tf.initializers.glorot_normal())\n",
    "    #W4 = tf.compat.v1.get_variable(\"W4\", shape=[512, 512])\n",
    "    b4 = tf.Variable(tf.compat.v1.random_normal([512]), name = 'bias4')\n",
    "    L4 = tf.nn.relu(tf.matmul(L3, W4) + b4)\n",
    "    L4 = tf.nn.dropout(L4, rate=rate)\n",
    "\n",
    "    W5 = tf.compat.v1.get_variable(\"W5\", shape=[512, nb_classes], initializer=tf.initializers.glorot_normal())\n",
    "    #W5 = tf.compat.v1.get_variable(\"W5\", shape=[512, nb_classes])\n",
    "    b5 = tf.Variable(tf.compat.v1.random_normal([nb_classes]), name = 'bias5')\n",
    "    hypothesis = tf.matmul(L4, W5) + b5\n",
    "    \n",
    "    cost = tf.reduce_mean(tf.nn.softmax_cross_entropy_with_logits(logits=hypothesis, labels=Y))\n",
    "    optimizer = tf.compat.v1.train.AdamOptimizer(learning_rate=0.001).minimize(cost)\n",
    "    \n",
    "    prediction = tf.argmax(hypothesis, 1)\n",
    "    is_correct = tf.equal(prediction, tf.argmax(Y, 1))\n",
    "    accuracy = tf.reduce_mean(tf.cast(is_correct, tf.float32))    \n",
    "    \n",
    "    init_op = tf.compat.v1.global_variables_initializer()\n",
    "    \n",
    "    r = random.randint(0, mnist.test.num_examples - 1)\n",
    "    test = tf.argmax(mnist.test.labels[r:r+1], 1)\n",
    "    \n",
    "sess = tf.compat.v1.Session(graph = g1)\n",
    "sess.run(init_op)"
   ]
  },
  {
   "cell_type": "code",
   "execution_count": 19,
   "metadata": {},
   "outputs": [
    {
     "name": "stdout",
     "output_type": "stream",
     "text": [
      "Epoch :  0001 cost =  0.475093287\n",
      "Epoch :  0002 cost =  0.176388608\n",
      "Epoch :  0003 cost =  0.131657446\n",
      "Epoch :  0004 cost =  0.108965402\n",
      "Epoch :  0005 cost =  0.096305183\n",
      "Epoch :  0006 cost =  0.083829229\n",
      "Epoch :  0007 cost =  0.075330100\n",
      "Epoch :  0008 cost =  0.074292538\n",
      "Epoch :  0009 cost =  0.065087292\n",
      "Epoch :  0010 cost =  0.058756636\n",
      "Epoch :  0011 cost =  0.056228860\n",
      "Epoch :  0012 cost =  0.055048858\n",
      "Epoch :  0013 cost =  0.048236312\n",
      "Epoch :  0014 cost =  0.046268388\n",
      "Epoch :  0015 cost =  0.046672601\n",
      "Accuracy :  0.982\n"
     ]
    }
   ],
   "source": [
    "training_epocs = 15\n",
    "batch_size = 100\n",
    "\n",
    "for epoch in range(training_epocs):\n",
    "    avg_cost = 0\n",
    "    total_batch = int(mnist.train.num_examples / batch_size)\n",
    "\n",
    "    for i in range(total_batch):\n",
    "        batch_xs, batch_ys = mnist.train.next_batch(batch_size)\n",
    "        c, _ = sess.run([cost, optimizer], feed_dict={X: batch_xs, Y: batch_ys, rate: 0.3})\n",
    "        avg_cost += c / total_batch\n",
    "    print('Epoch : ', '%04d' % (epoch + 1), 'cost = ', '{:.9f}'.format(avg_cost))\n",
    "    \n",
    "print(\"Accuracy : \", accuracy.eval(session=sess, feed_dict={X: mnist.test.images, Y: mnist.test.labels, rate: 0.0}))   "
   ]
  },
  {
   "cell_type": "code",
   "execution_count": 31,
   "metadata": {},
   "outputs": [
    {
     "name": "stdout",
     "output_type": "stream",
     "text": [
      "Label :  [0]\n",
      "Prediction :  [0]\n"
     ]
    },
    {
     "data": {
      "image/png": "[encoded data removed]",
      "text/plain": [
       "<Figure size 432x288 with 1 Axes>"
      ]
     },
     "metadata": {
      "needs_background": "light"
     },
     "output_type": "display_data"
    }
   ],
   "source": [
    "r = random.randint(0, mnist.test.num_examples - 1)\n",
    "print(\"Label : \", np.argmax(mnist.test.labels[r:r+1], 1))\n",
    "print(\"Prediction : \", sess.run(prediction, feed_dict={X: mnist.test.images[r:r+1], rate: 0.0}))\n",
    "\n",
    "plt.imshow(mnist.test.images[r:r+1].reshape(28, 28), cmap='Greys', interpolation='nearest')\n",
    "plt.show()"
   ]
  },
  {
   "cell_type": "code",
   "execution_count": null,
   "metadata": {},
   "outputs": [],
   "source": []
  }
 ],
 "metadata": {
  "kernelspec": {
   "display_name": "Python 3",
   "language": "python",
   "name": "python3"
  },
  "language_info": {
   "codemirror_mode": {
    "name": "ipython",
    "version": 3
   },
   "file_extension": ".py",
   "mimetype": "text/x-python",
   "name": "python",
   "nbconvert_exporter": "python",
   "pygments_lexer": "ipython3",
   "version": "3.7.4"
  }
 },
 "nbformat": 4,
 "nbformat_minor": 2
}
