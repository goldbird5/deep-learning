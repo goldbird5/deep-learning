{
 "cells": [
  {
   "cell_type": "code",
   "execution_count": 1,
   "metadata": {},
   "outputs": [
    {
     "name": "stderr",
     "output_type": "stream",
     "text": [
      "/usr/local/lib/python3.7/site-packages/pandas/compat/__init__.py:84: UserWarning: Could not import the lzma module. Your installed Python is incomplete. Attempting to use lzma compression will result in a RuntimeError.\n",
      "  warnings.warn(msg)\n",
      "/usr/local/lib/python3.7/site-packages/pandas/compat/__init__.py:84: UserWarning: Could not import the lzma module. Your installed Python is incomplete. Attempting to use lzma compression will result in a RuntimeError.\n",
      "  warnings.warn(msg)\n"
     ]
    }
   ],
   "source": [
    "import tensorflow as tf"
   ]
  },
  {
   "cell_type": "code",
   "execution_count": 8,
   "metadata": {},
   "outputs": [],
   "source": [
    "x_data = [[1, 2], [2, 3], [3, 1], [4, 3], [5, 3], [6, 2]]\n",
    "y_data = [[0], [0], [0], [1], [1], [1]]\n",
    "\n",
    "g1 = tf.Graph()\n",
    "with g1.as_default() as graph:\n",
    "    \n",
    "    X = tf.compat.v1.placeholder(tf.float32, shape=[None, 2])\n",
    "    Y = tf.compat.v1.placeholder(tf.float32, shape=[None, 1])  \n",
    "    \n",
    "    W = tf.Variable(tf.compat.v1.random_normal([2, 1]), name = 'weight')\n",
    "    b = tf.Variable(tf.compat.v1.random_normal([1]), name = 'bias')\n",
    "        \n",
    "    hypothesis = tf.sigmoid(tf.matmul(X, W) + b)\n",
    "  \n",
    "    cost = -tf.reduce_mean(Y * tf.compat.v1.log(hypothesis) + (1 - Y) * tf.compat.v1.log(1 - hypothesis))\n",
    "    \n",
    "    optimizer = tf.compat.v1.train.GradientDescentOptimizer(learning_rate=0.01)\n",
    "    train = optimizer.minimize(cost)\n",
    "    \n",
    "    predicted = tf.cast(hypothesis > 0.5, dtype = tf.float32)\n",
    "    accuracy = tf.reduce_mean(tf.cast(tf.equal(predicted, Y), dtype=tf.float32))\n",
    "    \n",
    "    init_op = tf.compat.v1.global_variables_initializer()\n",
    "    \n",
    "sess = tf.compat.v1.Session(graph = g1)\n",
    "sess.run(init_op)"
   ]
  },
  {
   "cell_type": "code",
   "execution_count": 11,
   "metadata": {},
   "outputs": [
    {
     "name": "stdout",
     "output_type": "stream",
     "text": [
      "0 0.1605557\n",
      "200 0.1580033\n",
      "400 0.15553075\n",
      "600 0.15313436\n",
      "800 0.15081088\n",
      "1000 0.14855714\n",
      "1200 0.14637\n",
      "1400 0.14424674\n",
      "1600 0.14218463\n",
      "1800 0.14018111\n",
      "2000 0.13823386\n",
      "2200 0.13634048\n",
      "2400 0.1344988\n",
      "2600 0.13270684\n",
      "2800 0.13096263\n",
      "3000 0.12926425\n",
      "3200 0.12761004\n",
      "3400 0.12599827\n",
      "3600 0.12442737\n",
      "3800 0.12289578\n",
      "4000 0.12140209\n",
      "4200 0.11994491\n",
      "4400 0.118522875\n",
      "4600 0.11713491\n",
      "4800 0.11577966\n",
      "5000 0.11445597\n",
      "5200 0.11316291\n",
      "5400 0.111899294\n",
      "5600 0.11066417\n",
      "5800 0.10945659\n",
      "6000 0.10827568\n",
      "6200 0.107120484\n",
      "6400 0.10599031\n",
      "6600 0.104884245\n",
      "6800 0.1038016\n",
      "7000 0.10274153\n",
      "7200 0.101703346\n",
      "7400 0.10068654\n",
      "7600 0.09969032\n",
      "7800 0.09871399\n",
      "8000 0.09775727\n",
      "8200 0.096819185\n",
      "8400 0.09589943\n",
      "8600 0.09499744\n",
      "8800 0.0941127\n",
      "9000 0.09324465\n",
      "9200 0.092392884\n",
      "9400 0.09155691\n",
      "9600 0.09073637\n",
      "9800 0.08993069\n",
      "10000 0.0891397\n",
      "\n",
      "Hypothesis :  [[0.0100711 ]\n",
      " [0.11453062]\n",
      " [0.18082444]\n",
      " [0.8457059 ]\n",
      " [0.9727376 ]\n",
      " [0.99166155]] \n",
      "Correct (Y) :  [[0.]\n",
      " [0.]\n",
      " [0.]\n",
      " [1.]\n",
      " [1.]\n",
      " [1.]] \n",
      "Accuracy :  1.0\n"
     ]
    }
   ],
   "source": [
    "for step in range(10001):\n",
    "    cost_val, _ = sess.run([cost, train], feed_dict = {X: x_data, Y: y_data})\n",
    "    if step % 200 == 0:\n",
    "        print(step, cost_val)\n",
    "        \n",
    "h, c, a = sess.run([hypothesis, predicted, accuracy], feed_dict={X: x_data, Y: y_data})\n",
    "print(\"\\nHypothesis : \", h, \"\\nCorrect (Y) : \", c, \"\\nAccuracy : \", a)"
   ]
  },
  {
   "cell_type": "code",
   "execution_count": null,
   "metadata": {},
   "outputs": [],
   "source": []
  }
 ],
 "metadata": {
  "kernelspec": {
   "display_name": "Python 3",
   "language": "python",
   "name": "python3"
  },
  "language_info": {
   "codemirror_mode": {
    "name": "ipython",
    "version": 3
   },
   "file_extension": ".py",
   "mimetype": "text/x-python",
   "name": "python",
   "nbconvert_exporter": "python",
   "pygments_lexer": "ipython3",
   "version": "3.7.4"
  }
 },
 "nbformat": 4,
 "nbformat_minor": 2
}
