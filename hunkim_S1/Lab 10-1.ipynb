{
 "cells": [
  {
   "cell_type": "code",
   "execution_count": 2,
   "metadata": {},
   "outputs": [],
   "source": [
    "import tensorflow as tf\n",
    "import numpy as np\n",
    "tf.compat.v1.set_random_seed(777)"
   ]
  },
  {
   "cell_type": "code",
   "execution_count": 20,
   "metadata": {},
   "outputs": [],
   "source": [
    "g1 = tf.Graph()\n",
    "with g1.as_default() as graph:\n",
    "    \n",
    "    x_data = np.array([[0, 0], [0, 1], [1, 0], [1, 1]], dtype=np.float32)\n",
    "    y_data = np.array([[0], [1], [1], [0]], dtype=np.float32)\n",
    "       \n",
    "    X = tf.compat.v1.placeholder(tf.float32)\n",
    "    Y = tf.compat.v1.placeholder(tf.float32)\n",
    "    \n",
    "    W1 = tf.Variable(tf.compat.v1.random_uniform([2, 5], -1.0, 1.0), name = 'Weight1')\n",
    "    W2 = tf.Variable(tf.compat.v1.random_uniform([5, 5], -1.0, 1.0), name = 'Weight2')\n",
    "    W3 = tf.Variable(tf.compat.v1.random_uniform([5, 5], -1.0, 1.0), name = 'Weight3')\n",
    "    W4 = tf.Variable(tf.compat.v1.random_uniform([5, 5], -1.0, 1.0), name = 'Weight4')\n",
    "    W5 = tf.Variable(tf.compat.v1.random_uniform([5, 5], -1.0, 1.0), name = 'Weight5')\n",
    "    W6 = tf.Variable(tf.compat.v1.random_uniform([5, 5], -1.0, 1.0), name = 'Weight6')\n",
    "    W7 = tf.Variable(tf.compat.v1.random_uniform([5, 5], -1.0, 1.0), name = 'Weight7')\n",
    "    W8 = tf.Variable(tf.compat.v1.random_uniform([5, 5], -1.0, 1.0), name = 'Weight8')\n",
    "    W9 = tf.Variable(tf.compat.v1.random_uniform([5, 5], -1.0, 1.0), name = 'Weight9')\n",
    "    W10 = tf.Variable(tf.compat.v1.random_uniform([5, 5], -1.0, 1.0), name = 'Weight10')    \n",
    "    W11 = tf.Variable(tf.compat.v1.random_uniform([5, 1], -1.0, 1.0), name = 'Weight11')\n",
    "    \n",
    "    \n",
    "    b1 = tf.Variable(tf.zeros([5]), name = 'bias1')\n",
    "    b2 = tf.Variable(tf.zeros([5]), name = 'bias2')\n",
    "    b3 = tf.Variable(tf.zeros([5]), name = 'bias3')\n",
    "    b4 = tf.Variable(tf.zeros([5]), name = 'bias4')\n",
    "    b5 = tf.Variable(tf.zeros([5]), name = 'bias5')\n",
    "    b6 = tf.Variable(tf.zeros([5]), name = 'bias6')\n",
    "    b7 = tf.Variable(tf.zeros([5]), name = 'bias7')\n",
    "    b8 = tf.Variable(tf.zeros([5]), name = 'bias8')\n",
    "    b9 = tf.Variable(tf.zeros([5]), name = 'bias9')\n",
    "    b10 = tf.Variable(tf.zeros([5]), name = 'bias10')\n",
    "    b11 = tf.Variable(tf.zeros([1]), name = 'bias11')\n",
    "    \n",
    "    with tf.name_scope(\"Layer1\") as scope:\n",
    "        L1 = tf.nn.relu(tf.matmul(X, W1) + b1)\n",
    "    with tf.name_scope(\"Layer2\") as scope:\n",
    "        L2 = tf.nn.relu(tf.matmul(L1, W2) + b2)\n",
    "    with tf.name_scope(\"Layer3\") as scope:\n",
    "        L3 = tf.nn.relu(tf.matmul(L2, W3) + b3) \n",
    "    with tf.name_scope(\"Layer4\") as scope:\n",
    "        L4 = tf.nn.relu(tf.matmul(L3, W4) + b4) \n",
    "    with tf.name_scope(\"Layer5\") as scope:\n",
    "        L5 = tf.nn.relu(tf.matmul(L4, W5) + b5) \n",
    "    with tf.name_scope(\"Layer6\") as scope:\n",
    "        L6 = tf.nn.relu(tf.matmul(L5, W6) + b6) \n",
    "    with tf.name_scope(\"Layer7\") as scope:\n",
    "        L7 = tf.nn.relu(tf.matmul(L6, W7) + b7) \n",
    "    with tf.name_scope(\"Layer8\") as scope:\n",
    "        L8 = tf.nn.relu(tf.matmul(L7, W8) + b8) \n",
    "    with tf.name_scope(\"Layer9\") as scope:\n",
    "        L9 = tf.nn.relu(tf.matmul(L8, W9) + b9) \n",
    "    with tf.name_scope(\"Layer10\") as scope:\n",
    "        L10 = tf.nn.relu(tf.matmul(L9, W10) + b10) \n",
    "    with tf.name_scope(\"Last\") as scope:  \n",
    "        hypothesis = tf.sigmoid(tf.matmul(L10, W11) + b11)    \n",
    "    \n",
    "    cost = -tf.reduce_mean(Y * tf.compat.v1.log(hypothesis) + (1 - Y) * tf.compat.v1.log(1 - hypothesis))\n",
    "    train = tf.compat.v1.train.GradientDescentOptimizer(learning_rate=0.1).minimize(cost)\n",
    "    \n",
    "    predicted = tf.cast(hypothesis > 0.5, dtype=tf.float32)\n",
    "    accuracy = tf.reduce_mean(tf.cast(tf.equal(predicted, Y), dtype=tf.float32))    \n",
    "    \n",
    "    init_op = tf.compat.v1.global_variables_initializer()\n",
    "    \n",
    "sess = tf.compat.v1.Session(graph = g1)\n",
    "sess.run(init_op)"
   ]
  },
  {
   "cell_type": "code",
   "execution_count": 21,
   "metadata": {},
   "outputs": [
    {
     "name": "stdout",
     "output_type": "stream",
     "text": [
      "0 0.696971\n",
      "1000 0.0135873975\n",
      "2000 0.0059861066\n",
      "3000 0.0038097552\n",
      "4000 0.0027881365\n",
      "5000 0.0021962272\n",
      "6000 0.0018107969\n",
      "7000 0.0015398101\n",
      "8000 0.001339166\n",
      "9000 0.0011846006\n",
      "10000 0.0010619065\n",
      "\n",
      "Hypothesis :  [[4.1848524e-03]\n",
      " [9.9997568e-01]\n",
      " [9.9997568e-01]\n",
      " [5.3364965e-06]] \n",
      "Correct :  [[0.]\n",
      " [1.]\n",
      " [1.]\n",
      " [0.]] \n",
      "Accuracy :  1.0\n"
     ]
    }
   ],
   "source": [
    "for step in range(10001):\n",
    "    sess.run(train, feed_dict={X: x_data, Y: y_data})\n",
    "    if step % 1000 == 0:\n",
    "        print(step, sess.run(cost, feed_dict={X: x_data, Y: y_data}))\n",
    "        \n",
    "h, c, a = sess.run([hypothesis, predicted, accuracy], feed_dict={X: x_data, Y: y_data})\n",
    "print(\"\\nHypothesis : \", h, \"\\nCorrect : \", c, \"\\nAccuracy : \", a)"
   ]
  },
  {
   "cell_type": "code",
   "execution_count": null,
   "metadata": {},
   "outputs": [],
   "source": []
  }
 ],
 "metadata": {
  "kernelspec": {
   "display_name": "Python 3",
   "language": "python",
   "name": "python3"
  },
  "language_info": {
   "codemirror_mode": {
    "name": "ipython",
    "version": 3
   },
   "file_extension": ".py",
   "mimetype": "text/x-python",
   "name": "python",
   "nbconvert_exporter": "python",
   "pygments_lexer": "ipython3",
   "version": "3.7.4"
  }
 },
 "nbformat": 4,
 "nbformat_minor": 2
}
